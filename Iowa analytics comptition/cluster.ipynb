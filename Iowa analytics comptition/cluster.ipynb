{
 "cells": [
  {
   "cell_type": "code",
   "execution_count": 8,
   "metadata": {
    "collapsed": false
   },
   "outputs": [],
   "source": [
    "from sklearn.cluster import KMeans\n",
    "from sklearn import cluster, datasets\n",
    "import numpy as np\n",
    "import pandas as pd"
   ]
  },
  {
   "cell_type": "code",
   "execution_count": 2,
   "metadata": {
    "collapsed": false
   },
   "outputs": [
    {
     "data": {
      "text/plain": [
       "array([0, 1])"
      ]
     },
     "execution_count": 2,
     "metadata": {},
     "output_type": "execute_result"
    }
   ],
   "source": [
    "kmeans.predict([[0, 0], [4, 4]])"
   ]
  },
  {
   "cell_type": "code",
   "execution_count": 3,
   "metadata": {
    "collapsed": false
   },
   "outputs": [
    {
     "data": {
      "text/plain": [
       "array([[ 1.,  2.],\n",
       "       [ 4.,  2.]])"
      ]
     },
     "execution_count": 3,
     "metadata": {},
     "output_type": "execute_result"
    }
   ],
   "source": [
    "kmeans.cluster_centers_"
   ]
  },
  {
   "cell_type": "code",
   "execution_count": 17,
   "metadata": {
    "collapsed": true
   },
   "outputs": [],
   "source": [
    "data =pd.read_csv('C:/Users/Jeffery/Google Drive/Homework/IOWA/Mayank/final_data.csv')"
   ]
  },
  {
   "cell_type": "code",
   "execution_count": 18,
   "metadata": {
    "collapsed": false
   },
   "outputs": [
    {
     "data": {
      "text/plain": [
       "Index(['BILL RUN DATE (Billing Calendar.csv)', 'Bill Run Date', 'CPI',\n",
       "       'Construction value', 'Division', 'Employment', 'Florida temperature',\n",
       "       'IPI', 'Kansas temperature', 'Labor force', 'Maine temperature',\n",
       "       'Minnesota temperture', 'Month1', 'Nevada temperature',\n",
       "       'North Carolina temperature', 'Number of Records', 'Oregon temperature',\n",
       "       'Unemployment rate in construction', 'Unemployment rate',\n",
       "       'Unemployment', 'Year1', 'Month', 'Sales', 'Temperature',\n",
       "       'Workforce In Construction', 'Year'],\n",
       "      dtype='object')"
      ]
     },
     "execution_count": 18,
     "metadata": {},
     "output_type": "execute_result"
    }
   ],
   "source": [
    "data.columns"
   ]
  },
  {
   "cell_type": "code",
   "execution_count": null,
   "metadata": {
    "collapsed": true
   },
   "outputs": [],
   "source": [
    "X = np.array([[1, 2], [1, 4], [1, 0],\n",
    "              [4, 2], [4, 4], [4, 0]])\n",
    "kmeans = KMeans(n_clusters=2, random_state=0).fit(X)\n",
    "kmeans.labels_"
   ]
  },
  {
   "cell_type": "code",
   "execution_count": 28,
   "metadata": {
    "collapsed": false
   },
   "outputs": [
    {
     "data": {
      "text/plain": [
       "KMeans(algorithm='auto', copy_x=True, init='k-means++', max_iter=300,\n",
       "    n_clusters=3, n_init=10, n_jobs=1, precompute_distances='auto',\n",
       "    random_state=None, tol=0.0001, verbose=0)"
      ]
     },
     "execution_count": 28,
     "metadata": {},
     "output_type": "execute_result"
    }
   ],
   "source": [
    "from sklearn import cluster, datasets\n",
    "\n",
    "X_iris = data[['Sales','IPI','Workforce In Construction', 'Unemployment rate']]\n",
    "y_iris = data['Division']\n",
    "\n",
    "k_means = cluster.KMeans(n_clusters=3)\n",
    "k_means.fit(X_iris) \n"
   ]
  },
  {
   "cell_type": "code",
   "execution_count": 27,
   "metadata": {
    "collapsed": false
   },
   "outputs": [
    {
     "name": "stdout",
     "output_type": "stream",
     "text": [
      "[0 0 3 ..., 0 0 0]\n"
     ]
    }
   ],
   "source": [
    "print(k_means.labels_)"
   ]
  },
  {
   "cell_type": "code",
   "execution_count": 24,
   "metadata": {
    "collapsed": false
   },
   "outputs": [
    {
     "name": "stdout",
     "output_type": "stream",
     "text": [
      "0         A\n",
      "10        J\n",
      "20        M\n",
      "30       AA\n",
      "40        C\n",
      "50        D\n",
      "60        U\n",
      "70        P\n",
      "80        M\n",
      "90        I\n",
      "100       A\n",
      "110       B\n",
      "120       I\n",
      "130       I\n",
      "140       B\n",
      "150       A\n",
      "160       S\n",
      "170       Q\n",
      "180       G\n",
      "190       P\n",
      "200       A\n",
      "210       G\n",
      "220       C\n",
      "230       E\n",
      "240       K\n",
      "250       P\n",
      "260       F\n",
      "270       S\n",
      "280       N\n",
      "290       M\n",
      "         ..\n",
      "16790     I\n",
      "16800     C\n",
      "16810     I\n",
      "16820     A\n",
      "16830     D\n",
      "16840    AA\n",
      "16850     M\n",
      "16860     I\n",
      "16870     L\n",
      "16880     K\n",
      "16890     U\n",
      "16900     R\n",
      "16910     K\n",
      "16920     A\n",
      "16930     J\n",
      "16940     J\n",
      "16950     C\n",
      "16960    AA\n",
      "16970     M\n",
      "16980     P\n",
      "16990     Q\n",
      "17000    AA\n",
      "17010     Q\n",
      "17020     F\n",
      "17030     I\n",
      "17040     S\n",
      "17050     B\n",
      "17060     K\n",
      "17070     I\n",
      "17080     L\n",
      "Name: Division, dtype: object [1 1 1 ..., 1 1 1]\n"
     ]
    }
   ],
   "source": [
    "print(y_iris[::10])"
   ]
  },
  {
   "cell_type": "code",
   "execution_count": null,
   "metadata": {
    "collapsed": true
   },
   "outputs": [],
   "source": []
  },
  {
   "cell_type": "code",
   "execution_count": null,
   "metadata": {
    "collapsed": true
   },
   "outputs": [],
   "source": []
  },
  {
   "cell_type": "code",
   "execution_count": null,
   "metadata": {
    "collapsed": true
   },
   "outputs": [],
   "source": []
  }
 ],
 "metadata": {
  "kernelspec": {
   "display_name": "Python 3",
   "language": "python",
   "name": "python3"
  },
  "language_info": {
   "codemirror_mode": {
    "name": "ipython",
    "version": 3
   },
   "file_extension": ".py",
   "mimetype": "text/x-python",
   "name": "python",
   "nbconvert_exporter": "python",
   "pygments_lexer": "ipython3",
   "version": "3.5.2"
  }
 },
 "nbformat": 4,
 "nbformat_minor": 0
}
