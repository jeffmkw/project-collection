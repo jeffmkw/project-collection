{
 "cells": [
  {
   "cell_type": "code",
   "execution_count": 1,
   "metadata": {
    "collapsed": false
   },
   "outputs": [],
   "source": [
    "import pandas as pd\n",
    "import matplotlib.pyplot as plt\n",
    "%matplotlib inline\n",
    "import datetime"
   ]
  },
  {
   "cell_type": "code",
   "execution_count": 2,
   "metadata": {
    "collapsed": false
   },
   "outputs": [],
   "source": [
    "calendar = pd.read_csv('C:/Users/Jeffery/Google Drive/Homework/IOWA/Billing_Calendar.csv')\n",
    "sales = pd.read_csv('C:/Users/Jeffery/Google Drive/Homework/IOWA/sales_data.csv')\n",
    "factors = pd.read_csv('C:/Users/Jeffery/Google Drive/Homework/IOWA/Mayank/cleaned independent factors.csv')"
   ]
  },
  {
   "cell_type": "code",
   "execution_count": 5,
   "metadata": {
    "collapsed": true
   },
   "outputs": [],
   "source": [
    "calendar['BILL_RUN_DATE'] = pd.to_datetime(calendar['BILL_RUN_DATE'])\n",
    "sales['BILL_RUN_DATE'] = pd.to_datetime(sales['BILL_RUN_DATE'])\n",
    "factors = factors.rename(columns={'year': 'yr', 'month': 'month_nm'})"
   ]
  },
  {
   "cell_type": "code",
   "execution_count": 4,
   "metadata": {
    "collapsed": false
   },
   "outputs": [
    {
     "name": "stdout",
     "output_type": "stream",
     "text": [
      "Index(['BILL_RUN_DATE', 'yr', 'month_nm'], dtype='object') Index(['BILL_RUN_DATE', 'Division', 'sales'], dtype='object')\n"
     ]
    }
   ],
   "source": [
    "print(calendar.columns, sales.columns)"
   ]
  },
  {
   "cell_type": "code",
   "execution_count": 5,
   "metadata": {
    "collapsed": false
   },
   "outputs": [
    {
     "name": "stdout",
     "output_type": "stream",
     "text": [
      "<class 'pandas.tslib.Timestamp'> <class 'pandas.tslib.Timestamp'>\n"
     ]
    }
   ],
   "source": [
    "print(type(calendar.BILL_RUN_DATE[1]), type(sales.BILL_RUN_DATE[1]))"
   ]
  },
  {
   "cell_type": "code",
   "execution_count": 6,
   "metadata": {
    "collapsed": false
   },
   "outputs": [
    {
     "data": {
      "text/html": [
       "<div>\n",
       "<table border=\"1\" class=\"dataframe\">\n",
       "  <thead>\n",
       "    <tr style=\"text-align: right;\">\n",
       "      <th></th>\n",
       "      <th>yr</th>\n",
       "      <th>month_nm</th>\n",
       "      <th>overall_unemployment_rate</th>\n",
       "      <th>labor_force</th>\n",
       "      <th>employment</th>\n",
       "      <th>unemployment</th>\n",
       "      <th>construction_workforce</th>\n",
       "      <th>construction_unemployment_rate</th>\n",
       "      <th>CPI</th>\n",
       "      <th>Temp</th>\n",
       "    </tr>\n",
       "  </thead>\n",
       "  <tbody>\n",
       "    <tr>\n",
       "      <th>0</th>\n",
       "      <td>2014</td>\n",
       "      <td>January</td>\n",
       "      <td>6.6</td>\n",
       "      <td>155295</td>\n",
       "      <td>145055</td>\n",
       "      <td>10240</td>\n",
       "      <td>5989</td>\n",
       "      <td>12.3</td>\n",
       "      <td>235.385</td>\n",
       "      <td>31.9</td>\n",
       "    </tr>\n",
       "    <tr>\n",
       "      <th>1</th>\n",
       "      <td>2014</td>\n",
       "      <td>February</td>\n",
       "      <td>6.7</td>\n",
       "      <td>155485</td>\n",
       "      <td>145102</td>\n",
       "      <td>10383</td>\n",
       "      <td>6010</td>\n",
       "      <td>12.8</td>\n",
       "      <td>235.672</td>\n",
       "      <td>35.3</td>\n",
       "    </tr>\n",
       "    <tr>\n",
       "      <th>2</th>\n",
       "      <td>2014</td>\n",
       "      <td>March</td>\n",
       "      <td>6.7</td>\n",
       "      <td>156115</td>\n",
       "      <td>145715</td>\n",
       "      <td>10400</td>\n",
       "      <td>6047</td>\n",
       "      <td>11.3</td>\n",
       "      <td>235.978</td>\n",
       "      <td>42.4</td>\n",
       "    </tr>\n",
       "    <tr>\n",
       "      <th>3</th>\n",
       "      <td>2014</td>\n",
       "      <td>April</td>\n",
       "      <td>6.2</td>\n",
       "      <td>155378</td>\n",
       "      <td>145673</td>\n",
       "      <td>9705</td>\n",
       "      <td>6086</td>\n",
       "      <td>9.4</td>\n",
       "      <td>236.471</td>\n",
       "      <td>52.0</td>\n",
       "    </tr>\n",
       "    <tr>\n",
       "      <th>4</th>\n",
       "      <td>2014</td>\n",
       "      <td>May</td>\n",
       "      <td>6.3</td>\n",
       "      <td>155559</td>\n",
       "      <td>145819</td>\n",
       "      <td>9740</td>\n",
       "      <td>6112</td>\n",
       "      <td>8.6</td>\n",
       "      <td>236.832</td>\n",
       "      <td>60.8</td>\n",
       "    </tr>\n",
       "  </tbody>\n",
       "</table>\n",
       "</div>"
      ],
      "text/plain": [
       "     yr  month_nm  overall_unemployment_rate  labor_force  employment  \\\n",
       "0  2014   January                        6.6       155295      145055   \n",
       "1  2014  February                        6.7       155485      145102   \n",
       "2  2014     March                        6.7       156115      145715   \n",
       "3  2014     April                        6.2       155378      145673   \n",
       "4  2014       May                        6.3       155559      145819   \n",
       "\n",
       "   unemployment  construction_workforce  construction_unemployment_rate  \\\n",
       "0         10240                    5989                            12.3   \n",
       "1         10383                    6010                            12.8   \n",
       "2         10400                    6047                            11.3   \n",
       "3          9705                    6086                             9.4   \n",
       "4          9740                    6112                             8.6   \n",
       "\n",
       "       CPI  Temp  \n",
       "0  235.385  31.9  \n",
       "1  235.672  35.3  \n",
       "2  235.978  42.4  \n",
       "3  236.471  52.0  \n",
       "4  236.832  60.8  "
      ]
     },
     "execution_count": 6,
     "metadata": {},
     "output_type": "execute_result"
    }
   ],
   "source": [
    "factors.head(5)"
   ]
  },
  {
   "cell_type": "code",
   "execution_count": 6,
   "metadata": {
    "collapsed": false
   },
   "outputs": [
    {
     "data": {
      "text/html": [
       "<div>\n",
       "<table border=\"1\" class=\"dataframe\">\n",
       "  <thead>\n",
       "    <tr style=\"text-align: right;\">\n",
       "      <th></th>\n",
       "      <th>BILL_RUN_DATE</th>\n",
       "      <th>yr</th>\n",
       "      <th>month_nm</th>\n",
       "    </tr>\n",
       "  </thead>\n",
       "  <tbody>\n",
       "    <tr>\n",
       "      <th>0</th>\n",
       "      <td>2014-01-03</td>\n",
       "      <td>2014</td>\n",
       "      <td>Jan</td>\n",
       "    </tr>\n",
       "    <tr>\n",
       "      <th>1</th>\n",
       "      <td>2014-01-06</td>\n",
       "      <td>2014</td>\n",
       "      <td>Jan</td>\n",
       "    </tr>\n",
       "    <tr>\n",
       "      <th>2</th>\n",
       "      <td>2014-01-07</td>\n",
       "      <td>2014</td>\n",
       "      <td>Jan</td>\n",
       "    </tr>\n",
       "    <tr>\n",
       "      <th>3</th>\n",
       "      <td>2014-01-08</td>\n",
       "      <td>2014</td>\n",
       "      <td>Jan</td>\n",
       "    </tr>\n",
       "    <tr>\n",
       "      <th>4</th>\n",
       "      <td>2014-01-09</td>\n",
       "      <td>2014</td>\n",
       "      <td>Jan</td>\n",
       "    </tr>\n",
       "  </tbody>\n",
       "</table>\n",
       "</div>"
      ],
      "text/plain": [
       "  BILL_RUN_DATE    yr month_nm\n",
       "0    2014-01-03  2014      Jan\n",
       "1    2014-01-06  2014      Jan\n",
       "2    2014-01-07  2014      Jan\n",
       "3    2014-01-08  2014      Jan\n",
       "4    2014-01-09  2014      Jan"
      ]
     },
     "execution_count": 6,
     "metadata": {},
     "output_type": "execute_result"
    }
   ],
   "source": [
    "calendar.head(5)"
   ]
  },
  {
   "cell_type": "code",
   "execution_count": 7,
   "metadata": {
    "collapsed": false,
    "scrolled": true
   },
   "outputs": [
    {
     "data": {
      "text/html": [
       "<div>\n",
       "<table border=\"1\" class=\"dataframe\">\n",
       "  <thead>\n",
       "    <tr style=\"text-align: right;\">\n",
       "      <th></th>\n",
       "      <th>BILL_RUN_DATE</th>\n",
       "      <th>Division</th>\n",
       "      <th>sales</th>\n",
       "    </tr>\n",
       "  </thead>\n",
       "  <tbody>\n",
       "    <tr>\n",
       "      <th>0</th>\n",
       "      <td>2016-04-08</td>\n",
       "      <td>A</td>\n",
       "      <td>1615.386</td>\n",
       "    </tr>\n",
       "    <tr>\n",
       "      <th>1</th>\n",
       "      <td>2016-10-07</td>\n",
       "      <td>B</td>\n",
       "      <td>7942.578</td>\n",
       "    </tr>\n",
       "    <tr>\n",
       "      <th>2</th>\n",
       "      <td>2014-06-04</td>\n",
       "      <td>C</td>\n",
       "      <td>2193426.426</td>\n",
       "    </tr>\n",
       "    <tr>\n",
       "      <th>3</th>\n",
       "      <td>2015-08-06</td>\n",
       "      <td>D</td>\n",
       "      <td>10676.526</td>\n",
       "    </tr>\n",
       "    <tr>\n",
       "      <th>4</th>\n",
       "      <td>2014-04-10</td>\n",
       "      <td>F</td>\n",
       "      <td>777.480</td>\n",
       "    </tr>\n",
       "  </tbody>\n",
       "</table>\n",
       "</div>"
      ],
      "text/plain": [
       "  BILL_RUN_DATE Division        sales\n",
       "0    2016-04-08        A     1615.386\n",
       "1    2016-10-07        B     7942.578\n",
       "2    2014-06-04        C  2193426.426\n",
       "3    2015-08-06        D    10676.526\n",
       "4    2014-04-10        F      777.480"
      ]
     },
     "execution_count": 7,
     "metadata": {},
     "output_type": "execute_result"
    }
   ],
   "source": [
    "sales.head(5)"
   ]
  },
  {
   "cell_type": "code",
   "execution_count": 8,
   "metadata": {
    "collapsed": true
   },
   "outputs": [],
   "source": [
    "merge = pd.merge(calendar, sales, on='BILL_RUN_DATE')\n",
    "merge['dayofweek'] = merge['BILL_RUN_DATE'].dt.weekday\n",
    "merge['week'] = merge['BILL_RUN_DATE'].dt.week"
   ]
  },
  {
   "cell_type": "code",
   "execution_count": 9,
   "metadata": {
    "collapsed": false
   },
   "outputs": [
    {
     "data": {
      "text/html": [
       "<div>\n",
       "<table border=\"1\" class=\"dataframe\">\n",
       "  <thead>\n",
       "    <tr style=\"text-align: right;\">\n",
       "      <th></th>\n",
       "      <th>BILL_RUN_DATE</th>\n",
       "      <th>yr</th>\n",
       "      <th>month_nm</th>\n",
       "      <th>Division</th>\n",
       "      <th>sales</th>\n",
       "      <th>dayofweek</th>\n",
       "      <th>week</th>\n",
       "    </tr>\n",
       "  </thead>\n",
       "  <tbody>\n",
       "    <tr>\n",
       "      <th>0</th>\n",
       "      <td>2014-01-03</td>\n",
       "      <td>2014</td>\n",
       "      <td>Jan</td>\n",
       "      <td>C</td>\n",
       "      <td>2527858.254</td>\n",
       "      <td>4</td>\n",
       "      <td>1</td>\n",
       "    </tr>\n",
       "    <tr>\n",
       "      <th>1</th>\n",
       "      <td>2014-01-03</td>\n",
       "      <td>2014</td>\n",
       "      <td>Jan</td>\n",
       "      <td>S</td>\n",
       "      <td>84509.652</td>\n",
       "      <td>4</td>\n",
       "      <td>1</td>\n",
       "    </tr>\n",
       "    <tr>\n",
       "      <th>2</th>\n",
       "      <td>2014-01-03</td>\n",
       "      <td>2014</td>\n",
       "      <td>Jan</td>\n",
       "      <td>G</td>\n",
       "      <td>1027.920</td>\n",
       "      <td>4</td>\n",
       "      <td>1</td>\n",
       "    </tr>\n",
       "    <tr>\n",
       "      <th>3</th>\n",
       "      <td>2014-01-03</td>\n",
       "      <td>2014</td>\n",
       "      <td>Jan</td>\n",
       "      <td>F</td>\n",
       "      <td>2113.662</td>\n",
       "      <td>4</td>\n",
       "      <td>1</td>\n",
       "    </tr>\n",
       "    <tr>\n",
       "      <th>4</th>\n",
       "      <td>2014-01-03</td>\n",
       "      <td>2014</td>\n",
       "      <td>Jan</td>\n",
       "      <td>K</td>\n",
       "      <td>341143.206</td>\n",
       "      <td>4</td>\n",
       "      <td>1</td>\n",
       "    </tr>\n",
       "  </tbody>\n",
       "</table>\n",
       "</div>"
      ],
      "text/plain": [
       "  BILL_RUN_DATE    yr month_nm Division        sales  dayofweek  week\n",
       "0    2014-01-03  2014      Jan        C  2527858.254          4     1\n",
       "1    2014-01-03  2014      Jan        S    84509.652          4     1\n",
       "2    2014-01-03  2014      Jan        G     1027.920          4     1\n",
       "3    2014-01-03  2014      Jan        F     2113.662          4     1\n",
       "4    2014-01-03  2014      Jan        K   341143.206          4     1"
      ]
     },
     "execution_count": 9,
     "metadata": {},
     "output_type": "execute_result"
    }
   ],
   "source": [
    "merge.head(5)"
   ]
  },
  {
   "cell_type": "code",
   "execution_count": 10,
   "metadata": {
    "collapsed": false
   },
   "outputs": [
    {
     "name": "stdout",
     "output_type": "stream",
     "text": [
      "(1012, 3) (17088, 3) (17088, 7)\n"
     ]
    }
   ],
   "source": [
    "print(calendar.shape, sales.shape,merge.shape)"
   ]
  },
  {
   "cell_type": "code",
   "execution_count": 11,
   "metadata": {
    "collapsed": false,
    "scrolled": true
   },
   "outputs": [
    {
     "data": {
      "text/plain": [
       "BILL_RUN_DATE    0\n",
       "yr               0\n",
       "month_nm         0\n",
       "Division         0\n",
       "sales            0\n",
       "dayofweek        0\n",
       "week             0\n",
       "dtype: int64"
      ]
     },
     "execution_count": 11,
     "metadata": {},
     "output_type": "execute_result"
    }
   ],
   "source": [
    "merge.isnull().sum()"
   ]
  },
  {
   "cell_type": "markdown",
   "metadata": {},
   "source": [
    "There is no missing data"
   ]
  },
  {
   "cell_type": "code",
   "execution_count": 12,
   "metadata": {
    "collapsed": false
   },
   "outputs": [],
   "source": [
    "merge.to_excel('C:/Users/Jeffery/Google Drive/Homework/IOWA/final data.xlsx')"
   ]
  },
  {
   "cell_type": "code",
   "execution_count": 13,
   "metadata": {
    "collapsed": false
   },
   "outputs": [
    {
     "data": {
      "text/html": [
       "<div>\n",
       "<table border=\"1\" class=\"dataframe\">\n",
       "  <thead>\n",
       "    <tr style=\"text-align: right;\">\n",
       "      <th></th>\n",
       "      <th>BILL_RUN_DATE</th>\n",
       "      <th>yr</th>\n",
       "      <th>month_nm</th>\n",
       "      <th>Division</th>\n",
       "      <th>sales</th>\n",
       "      <th>dayofweek</th>\n",
       "      <th>week</th>\n",
       "    </tr>\n",
       "  </thead>\n",
       "  <tbody>\n",
       "    <tr>\n",
       "      <th>7</th>\n",
       "      <td>2014-01-03</td>\n",
       "      <td>2014</td>\n",
       "      <td>Jan</td>\n",
       "      <td>A</td>\n",
       "      <td>2074.950</td>\n",
       "      <td>4</td>\n",
       "      <td>1</td>\n",
       "    </tr>\n",
       "    <tr>\n",
       "      <th>46</th>\n",
       "      <td>2014-01-07</td>\n",
       "      <td>2014</td>\n",
       "      <td>Jan</td>\n",
       "      <td>A</td>\n",
       "      <td>460.920</td>\n",
       "      <td>1</td>\n",
       "      <td>2</td>\n",
       "    </tr>\n",
       "    <tr>\n",
       "      <th>88</th>\n",
       "      <td>2014-01-09</td>\n",
       "      <td>2014</td>\n",
       "      <td>Jan</td>\n",
       "      <td>A</td>\n",
       "      <td>2431.338</td>\n",
       "      <td>3</td>\n",
       "      <td>2</td>\n",
       "    </tr>\n",
       "    <tr>\n",
       "      <th>109</th>\n",
       "      <td>2014-01-10</td>\n",
       "      <td>2014</td>\n",
       "      <td>Jan</td>\n",
       "      <td>A</td>\n",
       "      <td>4407.444</td>\n",
       "      <td>4</td>\n",
       "      <td>2</td>\n",
       "    </tr>\n",
       "    <tr>\n",
       "      <th>161</th>\n",
       "      <td>2014-01-14</td>\n",
       "      <td>2014</td>\n",
       "      <td>Jan</td>\n",
       "      <td>A</td>\n",
       "      <td>1193.664</td>\n",
       "      <td>1</td>\n",
       "      <td>3</td>\n",
       "    </tr>\n",
       "  </tbody>\n",
       "</table>\n",
       "</div>"
      ],
      "text/plain": [
       "    BILL_RUN_DATE    yr month_nm Division     sales  dayofweek  week\n",
       "7      2014-01-03  2014      Jan        A  2074.950          4     1\n",
       "46     2014-01-07  2014      Jan        A   460.920          1     2\n",
       "88     2014-01-09  2014      Jan        A  2431.338          3     2\n",
       "109    2014-01-10  2014      Jan        A  4407.444          4     2\n",
       "161    2014-01-14  2014      Jan        A  1193.664          1     3"
      ]
     },
     "execution_count": 13,
     "metadata": {},
     "output_type": "execute_result"
    }
   ],
   "source": [
    "devisiona= merge.loc[merge['Division'] == 'A']\n",
    "devisiona.head(5)"
   ]
  },
  {
   "cell_type": "code",
   "execution_count": 14,
   "metadata": {
    "collapsed": false
   },
   "outputs": [
    {
     "name": "stderr",
     "output_type": "stream",
     "text": [
      "D:\\anaconda\\lib\\site-packages\\ipykernel\\__main__.py:1: SettingWithCopyWarning: \n",
      "A value is trying to be set on a copy of a slice from a DataFrame.\n",
      "Try using .loc[row_indexer,col_indexer] = value instead\n",
      "\n",
      "See the caveats in the documentation: http://pandas.pydata.org/pandas-docs/stable/indexing.html#indexing-view-versus-copy\n",
      "  if __name__ == '__main__':\n"
     ]
    }
   ],
   "source": [
    "devisiona['BILL_RUN_DATE'] = pd.to_datetime(devisiona.BILL_RUN_DATE)"
   ]
  },
  {
   "cell_type": "code",
   "execution_count": 15,
   "metadata": {
    "collapsed": false
   },
   "outputs": [
    {
     "data": {
      "text/plain": [
       "(0, 55)"
      ]
     },
     "execution_count": 15,
     "metadata": {},
     "output_type": "execute_result"
    },
    {
     "data": {
      "image/png": "[encoded data removed]",
      "text/plain": [
       "<matplotlib.figure.Figure at 0x292e86a1b38>"
      ]
     },
     "metadata": {},
     "output_type": "display_data"
    }
   ],
   "source": [
    "plt.figure(figsize=(20,10))\n",
    "plt.scatter(devisiona.week, devisiona.sales)\n",
    "plt.xlim(0,55)"
   ]
  },
  {
   "cell_type": "code",
   "execution_count": 16,
   "metadata": {
    "collapsed": false
   },
   "outputs": [
    {
     "ename": "NameError",
     "evalue": "name 'devisionamerge' is not defined",
     "output_type": "error",
     "traceback": [
      "\u001b[1;31m---------------------------------------------------------------------------\u001b[0m",
      "\u001b[1;31mNameError\u001b[0m                                 Traceback (most recent call last)",
      "\u001b[1;32m<ipython-input-16-ce8970115b52>\u001b[0m in \u001b[0;36m<module>\u001b[1;34m()\u001b[0m\n\u001b[1;32m----> 1\u001b[1;33m \u001b[0mdevisionamerge\u001b[0m\u001b[1;33m.\u001b[0m\u001b[0mhead\u001b[0m\u001b[1;33m(\u001b[0m\u001b[1;36m5\u001b[0m\u001b[1;33m)\u001b[0m\u001b[1;33m\u001b[0m\u001b[0m\n\u001b[0m",
      "\u001b[1;31mNameError\u001b[0m: name 'devisionamerge' is not defined"
     ]
    }
   ],
   "source": [
    "devisionamerge.head(5)"
   ]
  },
  {
   "cell_type": "code",
   "execution_count": null,
   "metadata": {
    "collapsed": false
   },
   "outputs": [],
   "source": [
    "devisionamerge = devisiona.groupby(['yr','week']).sum()\n",
    "del devisionamerge['dayofweek']\n",
    "devisionamerge.head(5)"
   ]
  },
  {
   "cell_type": "code",
   "execution_count": null,
   "metadata": {
    "collapsed": false
   },
   "outputs": [],
   "source": [
    "train = devisiona.loc[devisiona['yr'].isin([2014, 2015])]\n",
    "train"
   ]
  },
  {
   "cell_type": "code",
   "execution_count": null,
   "metadata": {
    "collapsed": true
   },
   "outputs": [],
   "source": []
  },
  {
   "cell_type": "code",
   "execution_count": null,
   "metadata": {
    "collapsed": true
   },
   "outputs": [],
   "source": []
  },
  {
   "cell_type": "code",
   "execution_count": null,
   "metadata": {
    "collapsed": true
   },
   "outputs": [],
   "source": []
  },
  {
   "cell_type": "code",
   "execution_count": null,
   "metadata": {
    "collapsed": true
   },
   "outputs": [],
   "source": []
  },
  {
   "cell_type": "code",
   "execution_count": null,
   "metadata": {
    "collapsed": true
   },
   "outputs": [],
   "source": []
  }
 ],
 "metadata": {
  "kernelspec": {
   "display_name": "Python 3",
   "language": "python",
   "name": "python3"
  },
  "language_info": {
   "codemirror_mode": {
    "name": "ipython",
    "version": 3
   },
   "file_extension": ".py",
   "mimetype": "text/x-python",
   "name": "python",
   "nbconvert_exporter": "python",
   "pygments_lexer": "ipython3",
   "version": "3.5.2"
  }
 },
 "nbformat": 4,
 "nbformat_minor": 0
}
