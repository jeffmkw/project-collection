{
 "cells": [
  {
   "cell_type": "code",
   "execution_count": 16,
   "metadata": {
    "collapsed": false,
    "deletable": true,
    "editable": true
   },
   "outputs": [
    {
     "name": "stdout",
     "output_type": "stream",
     "text": [
      "Populating the interactive namespace from numpy and matplotlib\n"
     ]
    }
   ],
   "source": [
    "%pylab inline\n",
    "import pandas as pd\n",
    "import numpy as np\n",
    "from scipy import  stats\n",
    "import statsmodels.api as sm\n",
    "from statsmodels.graphics.api import qqplot\n"
   ]
  },
  {
   "cell_type": "code",
   "execution_count": 17,
   "metadata": {
    "collapsed": false,
    "deletable": true,
    "editable": true
   },
   "outputs": [
    {
     "data": {
      "text/html": [
       "<div>\n",
       "<table border=\"1\" class=\"dataframe\">\n",
       "  <thead>\n",
       "    <tr style=\"text-align: right;\">\n",
       "      <th></th>\n",
       "      <th>BILL_RUN_DATE</th>\n",
       "      <th>yr</th>\n",
       "      <th>month_nm</th>\n",
       "      <th>Division</th>\n",
       "      <th>sales</th>\n",
       "      <th>dayofweek</th>\n",
       "      <th>week</th>\n",
       "    </tr>\n",
       "  </thead>\n",
       "  <tbody>\n",
       "    <tr>\n",
       "      <th>0</th>\n",
       "      <td>2014-01-03</td>\n",
       "      <td>2014</td>\n",
       "      <td>Jan</td>\n",
       "      <td>C</td>\n",
       "      <td>2527858.254</td>\n",
       "      <td>4</td>\n",
       "      <td>1</td>\n",
       "    </tr>\n",
       "    <tr>\n",
       "      <th>1</th>\n",
       "      <td>2014-01-03</td>\n",
       "      <td>2014</td>\n",
       "      <td>Jan</td>\n",
       "      <td>S</td>\n",
       "      <td>84509.652</td>\n",
       "      <td>4</td>\n",
       "      <td>1</td>\n",
       "    </tr>\n",
       "    <tr>\n",
       "      <th>2</th>\n",
       "      <td>2014-01-03</td>\n",
       "      <td>2014</td>\n",
       "      <td>Jan</td>\n",
       "      <td>G</td>\n",
       "      <td>1027.920</td>\n",
       "      <td>4</td>\n",
       "      <td>1</td>\n",
       "    </tr>\n",
       "    <tr>\n",
       "      <th>3</th>\n",
       "      <td>2014-01-03</td>\n",
       "      <td>2014</td>\n",
       "      <td>Jan</td>\n",
       "      <td>F</td>\n",
       "      <td>2113.662</td>\n",
       "      <td>4</td>\n",
       "      <td>1</td>\n",
       "    </tr>\n",
       "    <tr>\n",
       "      <th>4</th>\n",
       "      <td>2014-01-03</td>\n",
       "      <td>2014</td>\n",
       "      <td>Jan</td>\n",
       "      <td>K</td>\n",
       "      <td>341143.206</td>\n",
       "      <td>4</td>\n",
       "      <td>1</td>\n",
       "    </tr>\n",
       "  </tbody>\n",
       "</table>\n",
       "</div>"
      ],
      "text/plain": [
       "  BILL_RUN_DATE    yr month_nm Division        sales  dayofweek  week\n",
       "0    2014-01-03  2014      Jan        C  2527858.254          4     1\n",
       "1    2014-01-03  2014      Jan        S    84509.652          4     1\n",
       "2    2014-01-03  2014      Jan        G     1027.920          4     1\n",
       "3    2014-01-03  2014      Jan        F     2113.662          4     1\n",
       "4    2014-01-03  2014      Jan        K   341143.206          4     1"
      ]
     },
     "execution_count": 17,
     "metadata": {},
     "output_type": "execute_result"
    }
   ],
   "source": [
    "#PC \n",
    "data = pd.read_excel('C:/Users/Jeffery/Google Drive/Homework/IOWA/final data.xlsx')\n",
    "#Mac data = pd.read_excel('/Users/Jeffery/Google Drive/Homework/IOWA/final data.xlsx')\n",
    "data.head(5)"
   ]
  },
  {
   "cell_type": "code",
   "execution_count": 18,
   "metadata": {
    "collapsed": false,
    "deletable": true,
    "editable": true
   },
   "outputs": [
    {
     "data": {
      "text/html": [
       "<div>\n",
       "<table border=\"1\" class=\"dataframe\">\n",
       "  <thead>\n",
       "    <tr style=\"text-align: right;\">\n",
       "      <th></th>\n",
       "      <th>BILL_RUN_DATE</th>\n",
       "      <th>yr</th>\n",
       "      <th>month_nm</th>\n",
       "      <th>Division</th>\n",
       "      <th>sales</th>\n",
       "      <th>dayofweek</th>\n",
       "      <th>week</th>\n",
       "    </tr>\n",
       "  </thead>\n",
       "  <tbody>\n",
       "    <tr>\n",
       "      <th>7</th>\n",
       "      <td>2014-01-03</td>\n",
       "      <td>2014</td>\n",
       "      <td>Jan</td>\n",
       "      <td>A</td>\n",
       "      <td>2074.950</td>\n",
       "      <td>4</td>\n",
       "      <td>1</td>\n",
       "    </tr>\n",
       "    <tr>\n",
       "      <th>46</th>\n",
       "      <td>2014-01-07</td>\n",
       "      <td>2014</td>\n",
       "      <td>Jan</td>\n",
       "      <td>A</td>\n",
       "      <td>460.920</td>\n",
       "      <td>1</td>\n",
       "      <td>2</td>\n",
       "    </tr>\n",
       "    <tr>\n",
       "      <th>88</th>\n",
       "      <td>2014-01-09</td>\n",
       "      <td>2014</td>\n",
       "      <td>Jan</td>\n",
       "      <td>A</td>\n",
       "      <td>2431.338</td>\n",
       "      <td>3</td>\n",
       "      <td>2</td>\n",
       "    </tr>\n",
       "    <tr>\n",
       "      <th>109</th>\n",
       "      <td>2014-01-10</td>\n",
       "      <td>2014</td>\n",
       "      <td>Jan</td>\n",
       "      <td>A</td>\n",
       "      <td>4407.444</td>\n",
       "      <td>4</td>\n",
       "      <td>2</td>\n",
       "    </tr>\n",
       "    <tr>\n",
       "      <th>161</th>\n",
       "      <td>2014-01-14</td>\n",
       "      <td>2014</td>\n",
       "      <td>Jan</td>\n",
       "      <td>A</td>\n",
       "      <td>1193.664</td>\n",
       "      <td>1</td>\n",
       "      <td>3</td>\n",
       "    </tr>\n",
       "  </tbody>\n",
       "</table>\n",
       "</div>"
      ],
      "text/plain": [
       "    BILL_RUN_DATE    yr month_nm Division     sales  dayofweek  week\n",
       "7      2014-01-03  2014      Jan        A  2074.950          4     1\n",
       "46     2014-01-07  2014      Jan        A   460.920          1     2\n",
       "88     2014-01-09  2014      Jan        A  2431.338          3     2\n",
       "109    2014-01-10  2014      Jan        A  4407.444          4     2\n",
       "161    2014-01-14  2014      Jan        A  1193.664          1     3"
      ]
     },
     "execution_count": 18,
     "metadata": {},
     "output_type": "execute_result"
    }
   ],
   "source": [
    "devisiona = data.loc[data['Division'] == 'A']\n",
    "devisiona.head(5)"
   ]
  },
  {
   "cell_type": "code",
   "execution_count": 19,
   "metadata": {
    "collapsed": false,
    "scrolled": true
   },
   "outputs": [
    {
     "data": {
      "text/html": [
       "<div>\n",
       "<table border=\"1\" class=\"dataframe\">\n",
       "  <thead>\n",
       "    <tr style=\"text-align: right;\">\n",
       "      <th></th>\n",
       "      <th>yr</th>\n",
       "      <th>week</th>\n",
       "      <th>sales</th>\n",
       "      <th>dayofweek</th>\n",
       "    </tr>\n",
       "  </thead>\n",
       "  <tbody>\n",
       "    <tr>\n",
       "      <th>0</th>\n",
       "      <td>2014</td>\n",
       "      <td>1</td>\n",
       "      <td>5724.294000</td>\n",
       "      <td>5</td>\n",
       "    </tr>\n",
       "    <tr>\n",
       "      <th>1</th>\n",
       "      <td>2014</td>\n",
       "      <td>2</td>\n",
       "      <td>7299.702000</td>\n",
       "      <td>8</td>\n",
       "    </tr>\n",
       "    <tr>\n",
       "      <th>2</th>\n",
       "      <td>2014</td>\n",
       "      <td>3</td>\n",
       "      <td>16901.508000</td>\n",
       "      <td>10</td>\n",
       "    </tr>\n",
       "    <tr>\n",
       "      <th>3</th>\n",
       "      <td>2014</td>\n",
       "      <td>4</td>\n",
       "      <td>11942.054542</td>\n",
       "      <td>13</td>\n",
       "    </tr>\n",
       "    <tr>\n",
       "      <th>4</th>\n",
       "      <td>2014</td>\n",
       "      <td>5</td>\n",
       "      <td>31720.890000</td>\n",
       "      <td>5</td>\n",
       "    </tr>\n",
       "    <tr>\n",
       "      <th>5</th>\n",
       "      <td>2014</td>\n",
       "      <td>6</td>\n",
       "      <td>2139.642000</td>\n",
       "      <td>7</td>\n",
       "    </tr>\n",
       "    <tr>\n",
       "      <th>6</th>\n",
       "      <td>2014</td>\n",
       "      <td>7</td>\n",
       "      <td>20599.044000</td>\n",
       "      <td>10</td>\n",
       "    </tr>\n",
       "    <tr>\n",
       "      <th>7</th>\n",
       "      <td>2014</td>\n",
       "      <td>8</td>\n",
       "      <td>17115.294326</td>\n",
       "      <td>13</td>\n",
       "    </tr>\n",
       "    <tr>\n",
       "      <th>8</th>\n",
       "      <td>2014</td>\n",
       "      <td>9</td>\n",
       "      <td>10440.240000</td>\n",
       "      <td>6</td>\n",
       "    </tr>\n",
       "    <tr>\n",
       "      <th>9</th>\n",
       "      <td>2014</td>\n",
       "      <td>10</td>\n",
       "      <td>11388.512657</td>\n",
       "      <td>7</td>\n",
       "    </tr>\n",
       "    <tr>\n",
       "      <th>10</th>\n",
       "      <td>2014</td>\n",
       "      <td>11</td>\n",
       "      <td>6622.572000</td>\n",
       "      <td>7</td>\n",
       "    </tr>\n",
       "    <tr>\n",
       "      <th>11</th>\n",
       "      <td>2014</td>\n",
       "      <td>12</td>\n",
       "      <td>-3553.740000</td>\n",
       "      <td>5</td>\n",
       "    </tr>\n",
       "    <tr>\n",
       "      <th>12</th>\n",
       "      <td>2014</td>\n",
       "      <td>13</td>\n",
       "      <td>2452.272000</td>\n",
       "      <td>9</td>\n",
       "    </tr>\n",
       "    <tr>\n",
       "      <th>13</th>\n",
       "      <td>2014</td>\n",
       "      <td>14</td>\n",
       "      <td>2474.034000</td>\n",
       "      <td>10</td>\n",
       "    </tr>\n",
       "    <tr>\n",
       "      <th>14</th>\n",
       "      <td>2014</td>\n",
       "      <td>15</td>\n",
       "      <td>5631.510000</td>\n",
       "      <td>5</td>\n",
       "    </tr>\n",
       "    <tr>\n",
       "      <th>15</th>\n",
       "      <td>2014</td>\n",
       "      <td>16</td>\n",
       "      <td>13937.052000</td>\n",
       "      <td>10</td>\n",
       "    </tr>\n",
       "    <tr>\n",
       "      <th>16</th>\n",
       "      <td>2014</td>\n",
       "      <td>17</td>\n",
       "      <td>-11578.608000</td>\n",
       "      <td>6</td>\n",
       "    </tr>\n",
       "    <tr>\n",
       "      <th>17</th>\n",
       "      <td>2014</td>\n",
       "      <td>18</td>\n",
       "      <td>4718.130000</td>\n",
       "      <td>7</td>\n",
       "    </tr>\n",
       "    <tr>\n",
       "      <th>18</th>\n",
       "      <td>2014</td>\n",
       "      <td>19</td>\n",
       "      <td>7029.857312</td>\n",
       "      <td>9</td>\n",
       "    </tr>\n",
       "    <tr>\n",
       "      <th>19</th>\n",
       "      <td>2014</td>\n",
       "      <td>20</td>\n",
       "      <td>14718.594000</td>\n",
       "      <td>6</td>\n",
       "    </tr>\n",
       "    <tr>\n",
       "      <th>20</th>\n",
       "      <td>2014</td>\n",
       "      <td>21</td>\n",
       "      <td>10877.610677</td>\n",
       "      <td>5</td>\n",
       "    </tr>\n",
       "    <tr>\n",
       "      <th>21</th>\n",
       "      <td>2014</td>\n",
       "      <td>22</td>\n",
       "      <td>-1718.922000</td>\n",
       "      <td>10</td>\n",
       "    </tr>\n",
       "    <tr>\n",
       "      <th>22</th>\n",
       "      <td>2014</td>\n",
       "      <td>23</td>\n",
       "      <td>11665.644000</td>\n",
       "      <td>10</td>\n",
       "    </tr>\n",
       "    <tr>\n",
       "      <th>23</th>\n",
       "      <td>2014</td>\n",
       "      <td>24</td>\n",
       "      <td>6571.269934</td>\n",
       "      <td>13</td>\n",
       "    </tr>\n",
       "    <tr>\n",
       "      <th>24</th>\n",
       "      <td>2014</td>\n",
       "      <td>25</td>\n",
       "      <td>12884.973973</td>\n",
       "      <td>14</td>\n",
       "    </tr>\n",
       "    <tr>\n",
       "      <th>25</th>\n",
       "      <td>2014</td>\n",
       "      <td>26</td>\n",
       "      <td>14001.552000</td>\n",
       "      <td>10</td>\n",
       "    </tr>\n",
       "    <tr>\n",
       "      <th>26</th>\n",
       "      <td>2014</td>\n",
       "      <td>27</td>\n",
       "      <td>581.998551</td>\n",
       "      <td>5</td>\n",
       "    </tr>\n",
       "    <tr>\n",
       "      <th>27</th>\n",
       "      <td>2014</td>\n",
       "      <td>28</td>\n",
       "      <td>10571.244276</td>\n",
       "      <td>7</td>\n",
       "    </tr>\n",
       "    <tr>\n",
       "      <th>28</th>\n",
       "      <td>2014</td>\n",
       "      <td>29</td>\n",
       "      <td>5348.388000</td>\n",
       "      <td>6</td>\n",
       "    </tr>\n",
       "    <tr>\n",
       "      <th>29</th>\n",
       "      <td>2014</td>\n",
       "      <td>30</td>\n",
       "      <td>-1351.434316</td>\n",
       "      <td>13</td>\n",
       "    </tr>\n",
       "    <tr>\n",
       "      <th>...</th>\n",
       "      <td>...</td>\n",
       "      <td>...</td>\n",
       "      <td>...</td>\n",
       "      <td>...</td>\n",
       "    </tr>\n",
       "    <tr>\n",
       "      <th>126</th>\n",
       "      <td>2016</td>\n",
       "      <td>23</td>\n",
       "      <td>23761.158000</td>\n",
       "      <td>10</td>\n",
       "    </tr>\n",
       "    <tr>\n",
       "      <th>127</th>\n",
       "      <td>2016</td>\n",
       "      <td>24</td>\n",
       "      <td>47926.383047</td>\n",
       "      <td>13</td>\n",
       "    </tr>\n",
       "    <tr>\n",
       "      <th>128</th>\n",
       "      <td>2016</td>\n",
       "      <td>25</td>\n",
       "      <td>48376.992000</td>\n",
       "      <td>10</td>\n",
       "    </tr>\n",
       "    <tr>\n",
       "      <th>129</th>\n",
       "      <td>2016</td>\n",
       "      <td>26</td>\n",
       "      <td>20476.996207</td>\n",
       "      <td>12</td>\n",
       "    </tr>\n",
       "    <tr>\n",
       "      <th>130</th>\n",
       "      <td>2016</td>\n",
       "      <td>27</td>\n",
       "      <td>53458.146000</td>\n",
       "      <td>10</td>\n",
       "    </tr>\n",
       "    <tr>\n",
       "      <th>131</th>\n",
       "      <td>2016</td>\n",
       "      <td>28</td>\n",
       "      <td>45189.378000</td>\n",
       "      <td>10</td>\n",
       "    </tr>\n",
       "    <tr>\n",
       "      <th>132</th>\n",
       "      <td>2016</td>\n",
       "      <td>29</td>\n",
       "      <td>37626.012000</td>\n",
       "      <td>10</td>\n",
       "    </tr>\n",
       "    <tr>\n",
       "      <th>133</th>\n",
       "      <td>2016</td>\n",
       "      <td>30</td>\n",
       "      <td>66523.740000</td>\n",
       "      <td>10</td>\n",
       "    </tr>\n",
       "    <tr>\n",
       "      <th>134</th>\n",
       "      <td>2016</td>\n",
       "      <td>31</td>\n",
       "      <td>47916.781352</td>\n",
       "      <td>13</td>\n",
       "    </tr>\n",
       "    <tr>\n",
       "      <th>135</th>\n",
       "      <td>2016</td>\n",
       "      <td>32</td>\n",
       "      <td>47035.330434</td>\n",
       "      <td>13</td>\n",
       "    </tr>\n",
       "    <tr>\n",
       "      <th>136</th>\n",
       "      <td>2016</td>\n",
       "      <td>33</td>\n",
       "      <td>72667.728000</td>\n",
       "      <td>10</td>\n",
       "    </tr>\n",
       "    <tr>\n",
       "      <th>137</th>\n",
       "      <td>2016</td>\n",
       "      <td>34</td>\n",
       "      <td>45745.272000</td>\n",
       "      <td>10</td>\n",
       "    </tr>\n",
       "    <tr>\n",
       "      <th>138</th>\n",
       "      <td>2016</td>\n",
       "      <td>35</td>\n",
       "      <td>43723.883069</td>\n",
       "      <td>13</td>\n",
       "    </tr>\n",
       "    <tr>\n",
       "      <th>139</th>\n",
       "      <td>2016</td>\n",
       "      <td>36</td>\n",
       "      <td>-11508.741439</td>\n",
       "      <td>13</td>\n",
       "    </tr>\n",
       "    <tr>\n",
       "      <th>140</th>\n",
       "      <td>2016</td>\n",
       "      <td>37</td>\n",
       "      <td>160487.730000</td>\n",
       "      <td>10</td>\n",
       "    </tr>\n",
       "    <tr>\n",
       "      <th>141</th>\n",
       "      <td>2016</td>\n",
       "      <td>38</td>\n",
       "      <td>-15881.037658</td>\n",
       "      <td>12</td>\n",
       "    </tr>\n",
       "    <tr>\n",
       "      <th>142</th>\n",
       "      <td>2016</td>\n",
       "      <td>39</td>\n",
       "      <td>79035.594000</td>\n",
       "      <td>10</td>\n",
       "    </tr>\n",
       "    <tr>\n",
       "      <th>143</th>\n",
       "      <td>2016</td>\n",
       "      <td>40</td>\n",
       "      <td>135931.380991</td>\n",
       "      <td>10</td>\n",
       "    </tr>\n",
       "    <tr>\n",
       "      <th>144</th>\n",
       "      <td>2016</td>\n",
       "      <td>41</td>\n",
       "      <td>153921.756000</td>\n",
       "      <td>10</td>\n",
       "    </tr>\n",
       "    <tr>\n",
       "      <th>145</th>\n",
       "      <td>2016</td>\n",
       "      <td>42</td>\n",
       "      <td>161377.458000</td>\n",
       "      <td>10</td>\n",
       "    </tr>\n",
       "    <tr>\n",
       "      <th>146</th>\n",
       "      <td>2016</td>\n",
       "      <td>43</td>\n",
       "      <td>198148.827607</td>\n",
       "      <td>11</td>\n",
       "    </tr>\n",
       "    <tr>\n",
       "      <th>147</th>\n",
       "      <td>2016</td>\n",
       "      <td>44</td>\n",
       "      <td>196552.984103</td>\n",
       "      <td>12</td>\n",
       "    </tr>\n",
       "    <tr>\n",
       "      <th>148</th>\n",
       "      <td>2016</td>\n",
       "      <td>45</td>\n",
       "      <td>199916.640000</td>\n",
       "      <td>10</td>\n",
       "    </tr>\n",
       "    <tr>\n",
       "      <th>149</th>\n",
       "      <td>2016</td>\n",
       "      <td>46</td>\n",
       "      <td>237984.824237</td>\n",
       "      <td>11</td>\n",
       "    </tr>\n",
       "    <tr>\n",
       "      <th>150</th>\n",
       "      <td>2016</td>\n",
       "      <td>47</td>\n",
       "      <td>95805.228000</td>\n",
       "      <td>3</td>\n",
       "    </tr>\n",
       "    <tr>\n",
       "      <th>151</th>\n",
       "      <td>2016</td>\n",
       "      <td>48</td>\n",
       "      <td>191166.677078</td>\n",
       "      <td>13</td>\n",
       "    </tr>\n",
       "    <tr>\n",
       "      <th>152</th>\n",
       "      <td>2016</td>\n",
       "      <td>49</td>\n",
       "      <td>156788.604000</td>\n",
       "      <td>10</td>\n",
       "    </tr>\n",
       "    <tr>\n",
       "      <th>153</th>\n",
       "      <td>2016</td>\n",
       "      <td>50</td>\n",
       "      <td>122318.892000</td>\n",
       "      <td>10</td>\n",
       "    </tr>\n",
       "    <tr>\n",
       "      <th>154</th>\n",
       "      <td>2016</td>\n",
       "      <td>51</td>\n",
       "      <td>239796.300150</td>\n",
       "      <td>11</td>\n",
       "    </tr>\n",
       "    <tr>\n",
       "      <th>155</th>\n",
       "      <td>2016</td>\n",
       "      <td>52</td>\n",
       "      <td>142023.098741</td>\n",
       "      <td>11</td>\n",
       "    </tr>\n",
       "  </tbody>\n",
       "</table>\n",
       "<p>156 rows × 4 columns</p>\n",
       "</div>"
      ],
      "text/plain": [
       "       yr  week          sales  dayofweek\n",
       "0    2014     1    5724.294000          5\n",
       "1    2014     2    7299.702000          8\n",
       "2    2014     3   16901.508000         10\n",
       "3    2014     4   11942.054542         13\n",
       "4    2014     5   31720.890000          5\n",
       "5    2014     6    2139.642000          7\n",
       "6    2014     7   20599.044000         10\n",
       "7    2014     8   17115.294326         13\n",
       "8    2014     9   10440.240000          6\n",
       "9    2014    10   11388.512657          7\n",
       "10   2014    11    6622.572000          7\n",
       "11   2014    12   -3553.740000          5\n",
       "12   2014    13    2452.272000          9\n",
       "13   2014    14    2474.034000         10\n",
       "14   2014    15    5631.510000          5\n",
       "15   2014    16   13937.052000         10\n",
       "16   2014    17  -11578.608000          6\n",
       "17   2014    18    4718.130000          7\n",
       "18   2014    19    7029.857312          9\n",
       "19   2014    20   14718.594000          6\n",
       "20   2014    21   10877.610677          5\n",
       "21   2014    22   -1718.922000         10\n",
       "22   2014    23   11665.644000         10\n",
       "23   2014    24    6571.269934         13\n",
       "24   2014    25   12884.973973         14\n",
       "25   2014    26   14001.552000         10\n",
       "26   2014    27     581.998551          5\n",
       "27   2014    28   10571.244276          7\n",
       "28   2014    29    5348.388000          6\n",
       "29   2014    30   -1351.434316         13\n",
       "..    ...   ...            ...        ...\n",
       "126  2016    23   23761.158000         10\n",
       "127  2016    24   47926.383047         13\n",
       "128  2016    25   48376.992000         10\n",
       "129  2016    26   20476.996207         12\n",
       "130  2016    27   53458.146000         10\n",
       "131  2016    28   45189.378000         10\n",
       "132  2016    29   37626.012000         10\n",
       "133  2016    30   66523.740000         10\n",
       "134  2016    31   47916.781352         13\n",
       "135  2016    32   47035.330434         13\n",
       "136  2016    33   72667.728000         10\n",
       "137  2016    34   45745.272000         10\n",
       "138  2016    35   43723.883069         13\n",
       "139  2016    36  -11508.741439         13\n",
       "140  2016    37  160487.730000         10\n",
       "141  2016    38  -15881.037658         12\n",
       "142  2016    39   79035.594000         10\n",
       "143  2016    40  135931.380991         10\n",
       "144  2016    41  153921.756000         10\n",
       "145  2016    42  161377.458000         10\n",
       "146  2016    43  198148.827607         11\n",
       "147  2016    44  196552.984103         12\n",
       "148  2016    45  199916.640000         10\n",
       "149  2016    46  237984.824237         11\n",
       "150  2016    47   95805.228000          3\n",
       "151  2016    48  191166.677078         13\n",
       "152  2016    49  156788.604000         10\n",
       "153  2016    50  122318.892000         10\n",
       "154  2016    51  239796.300150         11\n",
       "155  2016    52  142023.098741         11\n",
       "\n",
       "[156 rows x 4 columns]"
      ]
     },
     "execution_count": 19,
     "metadata": {},
     "output_type": "execute_result"
    }
   ],
   "source": [
    "devisiona = devisiona.groupby(['yr','week'],as_index = False).sum()\n",
    "devisiona"
   ]
  },
  {
   "cell_type": "code",
   "execution_count": 20,
   "metadata": {
    "collapsed": false,
    "deletable": true,
    "editable": true,
    "scrolled": true
   },
   "outputs": [
    {
     "data": {
      "text/plain": [
       "array([  5.72429400e+03,   7.29970200e+03,   1.69015080e+04,\n",
       "         1.19420545e+04,   3.17208900e+04,   2.13964200e+03,\n",
       "         2.05990440e+04,   1.71152943e+04,   1.04402400e+04,\n",
       "         1.13885127e+04,   6.62257200e+03,  -3.55374000e+03,\n",
       "         2.45227200e+03,   2.47403400e+03,   5.63151000e+03,\n",
       "         1.39370520e+04,  -1.15786080e+04,   4.71813000e+03,\n",
       "         7.02985731e+03,   1.47185940e+04,   1.08776107e+04,\n",
       "        -1.71892200e+03,   1.16656440e+04,   6.57126993e+03,\n",
       "         1.28849740e+04,   1.40015520e+04,   5.81998551e+02,\n",
       "         1.05712443e+04,   5.34838800e+03,  -1.35143432e+03,\n",
       "         1.82215040e+04,   1.25236980e+04,   3.39934080e+04,\n",
       "         1.68340264e+03,   1.62379727e+04,   2.12218800e+03,\n",
       "         2.31325620e+04,   2.09022240e+04,   7.17571800e+03,\n",
       "         1.24087318e+04,   7.13771635e+03,   6.20580028e+04,\n",
       "         1.72185922e+04,   3.95036100e+04,   4.91410153e+03,\n",
       "         1.36915200e+03,   6.99668400e+03,   5.07684521e+02,\n",
       "         1.08497326e+04,   3.54241800e+03,   4.20923520e+04,\n",
       "         9.83460000e+02,   1.57624020e+04,   5.38154265e+03,\n",
       "         8.56723800e+03,   1.29560820e+04,   1.75600020e+04,\n",
       "         1.32718380e+04,   6.93403800e+03,   1.84949223e+04,\n",
       "         1.51741740e+04,   1.28033400e+04,   2.22142740e+04,\n",
       "         2.11488937e+04,   2.53380051e+04,   1.61647800e+04,\n",
       "         3.02886088e+04,   5.56018740e+04,   3.62346780e+04,\n",
       "         4.69370878e+04,   4.05471420e+04,   1.72312160e+04,\n",
       "         6.13091415e+04,   5.14996216e+04,   1.13424480e+04,\n",
       "         1.76750640e+04,   3.71763638e+04,   2.42178420e+04,\n",
       "         4.33363860e+04,   4.04211387e+04,   5.08133068e+04,\n",
       "         5.49337440e+04,   5.23840340e+04,   4.05242880e+04,\n",
       "         3.67652160e+04,   7.02742647e+04,   6.72841275e+04,\n",
       "         8.60002200e+03,   5.85354900e+04,   1.93861680e+04,\n",
       "         2.53569780e+04,   2.48618280e+04,   2.61293255e+04,\n",
       "        -7.30778400e+03,   5.09872997e+04,   9.38068244e+04,\n",
       "         8.72786400e+04,   4.19370598e+04,   1.37520000e+02,\n",
       "         5.61069304e+04,   6.74142081e+04,   3.07549149e+04,\n",
       "         1.33120800e+04,   3.56520000e+02,   5.40405360e+04,\n",
       "         1.06144699e+05,   7.01219700e+04,   3.42728340e+04,\n",
       "         2.76666240e+04,   1.53405539e+04,   3.31294680e+04,\n",
       "         4.03908041e+04,   2.81472120e+04,   9.42546420e+04,\n",
       "         4.46646000e+04,   8.92820700e+04,   1.61196036e+05,\n",
       "         5.02618380e+04,  -5.29632498e+04,   5.45163480e+04,\n",
       "         4.16846966e+03,   1.34916567e+04,   9.86257800e+03,\n",
       "         2.69932980e+04,   8.33118372e+04,   1.83601920e+04,\n",
       "         2.37611580e+04,   4.79263830e+04,   4.83769920e+04,\n",
       "         2.04769962e+04,   5.34581460e+04,   4.51893780e+04,\n",
       "         3.76260120e+04,   6.65237400e+04,   4.79167814e+04,\n",
       "         4.70353304e+04,   7.26677280e+04,   4.57452720e+04,\n",
       "         4.37238831e+04,  -1.15087414e+04,   1.60487730e+05,\n",
       "        -1.58810377e+04,   7.90355940e+04,   1.35931381e+05,\n",
       "         1.53921756e+05,   1.61377458e+05,   1.98148828e+05,\n",
       "         1.96552984e+05,   1.99916640e+05,   2.37984824e+05,\n",
       "         9.58052280e+04,   1.91166677e+05,   1.56788604e+05,\n",
       "         1.22318892e+05,   2.39796300e+05,   1.42023099e+05])"
      ]
     },
     "execution_count": 20,
     "metadata": {},
     "output_type": "execute_result"
    }
   ],
   "source": [
    "sales = pd.to_numeric(devisiona['sales'].as_matrix())\n",
    "sales"
   ]
  },
  {
   "cell_type": "markdown",
   "metadata": {
    "collapsed": false,
    "deletable": true,
    "editable": true
   },
   "source": [
    "Here is goes the detail"
   ]
  },
  {
   "cell_type": "code",
   "execution_count": 21,
   "metadata": {
    "collapsed": false,
    "deletable": true,
    "editable": true,
    "scrolled": true
   },
   "outputs": [
    {
     "data": {
      "text/plain": [
       "list"
      ]
     },
     "execution_count": 21,
     "metadata": {},
     "output_type": "execute_result"
    }
   ],
   "source": [
    "dta = list(sales)\n",
    "type(dta)"
   ]
  },
  {
   "cell_type": "code",
   "execution_count": 22,
   "metadata": {
    "collapsed": false,
    "deletable": true,
    "editable": true
   },
   "outputs": [
    {
     "data": {
      "text/plain": [
       "0     5724.294000\n",
       "1     7299.702000\n",
       "2    16901.508000\n",
       "3    11942.054542\n",
       "4    31720.890000\n",
       "dtype: float64"
      ]
     },
     "execution_count": 22,
     "metadata": {},
     "output_type": "execute_result"
    }
   ],
   "source": [
    "dta=pd.Series(dta)\n",
    "dta.head(5)"
   ]
  },
  {
   "cell_type": "code",
   "execution_count": 23,
   "metadata": {
    "collapsed": false
   },
   "outputs": [
    {
     "data": {
      "text/plain": [
       "2001-12-31     5724.294000\n",
       "2002-12-31     7299.702000\n",
       "2003-12-31    16901.508000\n",
       "2004-12-31    11942.054542\n",
       "2005-12-31    31720.890000\n",
       "dtype: float64"
      ]
     },
     "execution_count": 23,
     "metadata": {},
     "output_type": "execute_result"
    }
   ],
   "source": [
    "dta.index = pd.Index(sm.tsa.datetools.dates_from_range('2001','2156'))\n",
    "dta.head(5)"
   ]
  },
  {
   "cell_type": "code",
   "execution_count": 24,
   "metadata": {
    "collapsed": false
   },
   "outputs": [
    {
     "data": {
      "text/plain": [
       "<matplotlib.axes._subplots.AxesSubplot at 0x2ea194b99e8>"
      ]
     },
     "execution_count": 24,
     "metadata": {},
     "output_type": "execute_result"
    },
    {
     "data": {
      "image/png": "[encoded data removed]",
      "text/plain": [
       "<matplotlib.figure.Figure at 0x2ea194b9cf8>"
      ]
     },
     "metadata": {},
     "output_type": "display_data"
    }
   ],
   "source": [
    "dta.plot(figsize=(12,8))"
   ]
  },
  {
   "cell_type": "code",
   "execution_count": 25,
   "metadata": {
    "collapsed": false
   },
   "outputs": [
    {
     "data": {
      "text/plain": [
       "<matplotlib.axes._subplots.AxesSubplot at 0x2ea1854f630>"
      ]
     },
     "execution_count": 25,
     "metadata": {},
     "output_type": "execute_result"
    },
    {
     "data": {
      "image/png": "[encoded data removed]",
      "text/plain": [
       "<matplotlib.figure.Figure at 0x2ea18556198>"
      ]
     },
     "metadata": {},
     "output_type": "display_data"
    }
   ],
   "source": [
    "fig = plt.figure(figsize=(12,8))\n",
    "ax1= fig.add_subplot(111)\n",
    "diff1 = dta.diff(1)\n",
    "diff1.plot(ax=ax1)"
   ]
  },
  {
   "cell_type": "code",
   "execution_count": 26,
   "metadata": {
    "collapsed": false
   },
   "outputs": [
    {
     "data": {
      "text/plain": [
       "2002-12-31    1575.408\n",
       "2003-12-31    9601.806\n",
       "dtype: float64"
      ]
     },
     "execution_count": 26,
     "metadata": {},
     "output_type": "execute_result"
    }
   ],
   "source": [
    "dta= dta.diff(1)\n",
    "dta = dta.dropna()\n",
    "dta.head(2)"
   ]
  },
  {
   "cell_type": "code",
   "execution_count": 27,
   "metadata": {
    "collapsed": false
   },
   "outputs": [
    {
     "data": {
      "image/png": "[encoded data removed]",
      "text/plain": [
       "<matplotlib.figure.Figure at 0x2ea19428eb8>"
      ]
     },
     "metadata": {},
     "output_type": "display_data"
    }
   ],
   "source": [
    "\n",
    "#我们已经知道要使用一阶差分的时间序列，之前判断差分的程序可以注释掉\n",
    "fig = plt.figure(figsize=(12,8))\n",
    "ax1=fig.add_subplot(211)\n",
    "fig = sm.graphics.tsa.plot_acf(dta.values.squeeze(),lags=40,ax=ax1)\n",
    "ax2 = fig.add_subplot(212)\n",
    "fig = sm.graphics.tsa.plot_pacf(dta,lags=40,ax=ax2)"
   ]
  },
  {
   "cell_type": "code",
   "execution_count": 30,
   "metadata": {
    "collapsed": false
   },
   "outputs": [
    {
     "name": "stdout",
     "output_type": "stream",
     "text": [
      "3678.9988196642003 3706.38964572 3690.12435755\n",
      "3669.0204330505867 3678.1507084 3672.72894568\n",
      "3676.38725804269 3706.82150921 3688.7489668\n",
      "3671.257069726616 3701.6913209 3683.61877849\n"
     ]
    }
   ],
   "source": [
    "arma_mod20 = sm.tsa.ARMA(dta,(7,0)).fit()\n",
    "print(arma_mod20.aic,arma_mod20.bic,arma_mod20.hqic)\n",
    "arma_mod30 = sm.tsa.ARMA(dta,(0,1)).fit()\n",
    "print(arma_mod30.aic,arma_mod30.bic,arma_mod30.hqic)\n",
    "arma_mod40 = sm.tsa.ARMA(dta,(7,1)).fit()\n",
    "print(arma_mod40.aic,arma_mod40.bic,arma_mod40.hqic)\n",
    "arma_mod50 = sm.tsa.ARMA(dta,(8,0)).fit()\n",
    "print(arma_mod50.aic,arma_mod50.bic,arma_mod50.hqic)"
   ]
  },
  {
   "cell_type": "code",
   "execution_count": 31,
   "metadata": {
    "collapsed": false
   },
   "outputs": [
    {
     "data": {
      "image/png": "[encoded data removed]",
      "text/plain": [
       "<matplotlib.figure.Figure at 0x2ea19378978>"
      ]
     },
     "metadata": {},
     "output_type": "display_data"
    }
   ],
   "source": [
    "resid = arma_mod50.resid\n",
    "fig = plt.figure(figsize=(12,8))\n",
    "ax1 = fig.add_subplot(211)\n",
    "fig = sm.graphics.tsa.plot_acf(resid.values.squeeze(), lags=40, ax=ax1)\n",
    "ax2 = fig.add_subplot(212)\n",
    "fig = sm.graphics.tsa.plot_pacf(resid, lags=40, ax=ax2)"
   ]
  },
  {
   "cell_type": "code",
   "execution_count": 32,
   "metadata": {
    "collapsed": false
   },
   "outputs": [
    {
     "name": "stdout",
     "output_type": "stream",
     "text": [
      "2.056175889\n"
     ]
    }
   ],
   "source": [
    "print(sm.stats.durbin_watson(arma_mod20.resid.values))"
   ]
  },
  {
   "cell_type": "code",
   "execution_count": 33,
   "metadata": {
    "collapsed": false
   },
   "outputs": [
    {
     "data": {
      "image/png": "[encoded data removed]",
      "text/plain": [
       "<matplotlib.figure.Figure at 0x2ea19f79d30>"
      ]
     },
     "metadata": {},
     "output_type": "display_data"
    }
   ],
   "source": [
    "fig = plt.figure(figsize=(12,8))\n",
    "ax = fig.add_subplot(111)\n",
    "fig = qqplot(resid, line='q', ax=ax, fit=True)"
   ]
  },
  {
   "cell_type": "code",
   "execution_count": 34,
   "metadata": {
    "collapsed": false
   },
   "outputs": [
    {
     "name": "stdout",
     "output_type": "stream",
     "text": [
      "            AC          Q  Prob(>Q)\n",
      "lag                                \n",
      "1.0  -0.001788   0.000505  0.982064\n",
      "2.0  -0.036208   0.209030  0.900761\n",
      "3.0   0.027108   0.326676  0.954936\n",
      "4.0   0.057693   0.863086  0.929796\n",
      "5.0  -0.003017   0.864563  0.972734\n",
      "6.0  -0.012383   0.889605  0.989453\n",
      "7.0  -0.039412   1.145005  0.992139\n",
      "8.0  -0.020052   1.211566  0.996526\n",
      "9.0   0.031418   1.376093  0.997966\n",
      "10.0  0.044931   1.714907  0.998095\n",
      "11.0  0.198945   8.403531  0.676765\n",
      "12.0 -0.057608   8.968291  0.705636\n",
      "13.0 -0.149019  12.773936  0.465421\n",
      "14.0  0.059030  13.375334  0.497206\n",
      "15.0 -0.098908  15.075801  0.445971\n",
      "16.0  0.147145  18.866380  0.275653\n",
      "17.0  0.044037  19.208356  0.316705\n",
      "18.0 -0.071635  20.119859  0.326112\n",
      "19.0  0.032370  20.307348  0.376301\n",
      "20.0  0.053783  20.828770  0.407272\n",
      "21.0  0.086094  22.174867  0.389494\n",
      "22.0 -0.178782  28.023104  0.174917\n",
      "23.0 -0.070344  28.935341  0.182463\n",
      "24.0  0.039830  29.230035  0.211594\n",
      "25.0 -0.083886  30.547293  0.204449\n",
      "26.0 -0.221467  39.799842  0.040812\n",
      "27.0  0.089615  41.326655  0.038302\n",
      "28.0  0.038277  41.607400  0.047192\n",
      "29.0 -0.066461  42.460495  0.051023\n",
      "30.0  0.025264  42.584753  0.063717\n",
      "31.0  0.047533  43.028149  0.073846\n",
      "32.0  0.088129  44.564774  0.069009\n",
      "33.0  0.038427  44.859318  0.081609\n",
      "34.0 -0.059805  45.578626  0.088620\n",
      "35.0  0.078776  46.837079  0.087132\n",
      "36.0 -0.063916  47.672496  0.092302\n",
      "37.0 -0.093761  49.485488  0.082280\n",
      "38.0  0.090450  51.187098  0.074807\n",
      "39.0 -0.016587  51.244817  0.090609\n",
      "40.0 -0.046512  51.702597  0.101704\n"
     ]
    }
   ],
   "source": [
    "r,q,p = sm.tsa.acf(resid.values.squeeze(), qstat=True)\n",
    "data = np.c_[range(1,41), r[1:], q, p]\n",
    "table = pd.DataFrame(data, columns=['lag', \"AC\", \"Q\", \"Prob(>Q)\"])\n",
    "print(table.set_index('lag'))"
   ]
  },
  {
   "cell_type": "code",
   "execution_count": 36,
   "metadata": {
    "collapsed": false
   },
   "outputs": [
    {
     "name": "stdout",
     "output_type": "stream",
     "text": [
      "2157-12-31    31929.109661\n",
      "2158-12-31    18373.512478\n",
      "2159-12-31   -30466.603431\n",
      "2160-12-31    23568.134476\n",
      "2161-12-31    -7534.334369\n",
      "2162-12-31    -6468.479378\n",
      "2163-12-31    18160.377213\n",
      "2164-12-31   -12236.844319\n",
      "2165-12-31     4651.486033\n",
      "2166-12-31     4767.332448\n",
      "2167-12-31    -4659.562349\n",
      "2168-12-31     5181.968138\n",
      "2169-12-31     -201.580620\n",
      "2170-12-31     -455.799075\n",
      "2171-12-31     3730.375857\n",
      "2172-12-31     -873.964274\n",
      "2173-12-31     1472.514883\n",
      "2174-12-31     1754.266286\n",
      "2175-12-31       70.863150\n",
      "2176-12-31     1739.239230\n",
      "2177-12-31      902.999237\n",
      "2178-12-31      768.482321\n",
      "2179-12-31     1486.811303\n",
      "2180-12-31      768.544623\n",
      "2181-12-31     1101.042259\n",
      "2182-12-31     1183.522334\n",
      "2183-12-31      890.673974\n",
      "2184-12-31     1164.219728\n",
      "2185-12-31     1040.994267\n",
      "2186-12-31     1003.539204\n",
      "2187-12-31     1126.420429\n",
      "2188-12-31     1013.360030\n",
      "2189-12-31     1060.277483\n",
      "2190-12-31     1079.375811\n",
      "2191-12-31     1029.129054\n",
      "2192-12-31     1073.125121\n",
      "2193-12-31     1055.620371\n",
      "2194-12-31     1047.065723\n",
      "2195-12-31     1067.939994\n",
      "2196-12-31     1050.144618\n",
      "2197-12-31     1056.636442\n",
      "2198-12-31     1060.650467\n",
      "2199-12-31     1052.118746\n",
      "2200-12-31     1059.101988\n",
      "Freq: A-DEC, dtype: float64\n"
     ]
    },
    {
     "data": {
      "text/plain": [
       "<matplotlib.axes._subplots.AxesSubplot at 0x2ea192b34e0>"
      ]
     },
     "execution_count": 36,
     "metadata": {},
     "output_type": "execute_result"
    },
    {
     "data": {
      "image/png": "[encoded data removed]",
      "text/plain": [
       "<matplotlib.figure.Figure at 0x2ea1f3f87f0>"
      ]
     },
     "metadata": {},
     "output_type": "display_data"
    }
   ],
   "source": [
    "predict_sunspots = arma_mod20.predict('2157', '2200', dynamic=True)\n",
    "print(predict_sunspots)\n",
    "fig, ax = plt.subplots(figsize=(12, 8))\n",
    "ax = dta.ix['2001':].plot(ax=ax)\n",
    "predict_sunspots.plot(ax=ax)"
   ]
  },
  {
   "cell_type": "code",
   "execution_count": null,
   "metadata": {
    "collapsed": true
   },
   "outputs": [],
   "source": []
  },
  {
   "cell_type": "code",
   "execution_count": null,
   "metadata": {
    "collapsed": true
   },
   "outputs": [],
   "source": []
  },
  {
   "cell_type": "code",
   "execution_count": null,
   "metadata": {
    "collapsed": true
   },
   "outputs": [],
   "source": []
  },
  {
   "cell_type": "code",
   "execution_count": null,
   "metadata": {
    "collapsed": true
   },
   "outputs": [],
   "source": []
  },
  {
   "cell_type": "code",
   "execution_count": null,
   "metadata": {
    "collapsed": true
   },
   "outputs": [],
   "source": []
  }
 ],
 "metadata": {
  "kernelspec": {
   "display_name": "Python 3",
   "language": "python",
   "name": "python3"
  },
  "language_info": {
   "codemirror_mode": {
    "name": "ipython",
    "version": 3
   },
   "file_extension": ".py",
   "mimetype": "text/x-python",
   "name": "python",
   "nbconvert_exporter": "python",
   "pygments_lexer": "ipython3",
   "version": "3.5.2"
  }
 },
 "nbformat": 4,
 "nbformat_minor": 0
}
